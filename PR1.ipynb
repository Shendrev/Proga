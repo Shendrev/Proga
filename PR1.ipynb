{
  "nbformat": 4,
  "nbformat_minor": 0,
  "metadata": {
    "colab": {
      "provenance": [],
      "authorship_tag": "ABX9TyOM8MfbrGJVkGps9cJXai9g",
      "include_colab_link": true
    },
    "kernelspec": {
      "name": "python3",
      "display_name": "Python 3"
    },
    "language_info": {
      "name": "python"
    }
  },
  "cells": [
    {
      "cell_type": "markdown",
      "metadata": {
        "id": "view-in-github",
        "colab_type": "text"
      },
      "source": [
        "<a href=\"https://colab.research.google.com/github/Shendrev/Proga/blob/main/PR1.ipynb\" target=\"_parent\"><img src=\"https://colab.research.google.com/assets/colab-badge.svg\" alt=\"Open In Colab\"/></a>"
      ]
    },
    {
      "cell_type": "code",
      "execution_count": 20,
      "metadata": {
        "colab": {
          "base_uri": "https://localhost:8080/"
        },
        "id": "kDrN2XkxBo5g",
        "outputId": "6289a772-1677-41df-89c7-8f286c843e54"
      },
      "outputs": [
        {
          "output_type": "stream",
          "name": "stdout",
          "text": [
            "multiplies: 100\n",
            "plus: 25\n"
          ]
        }
      ],
      "source": [
        "class A:\n",
        "  __a = int()\n",
        "  __b = int()\n",
        "  def __init__(self, __a, __b):\n",
        "    self.a = __a\n",
        "    self.b = __b\n",
        "  def multi(self):\n",
        "    c = self.a * self.b\n",
        "    return c\n",
        "  def plus(self):\n",
        "    c = self.a + self.b\n",
        "    return c\n",
        "c1 = A(20, 5)\n",
        "print(f'multiplies: {c1.multi()}')\n",
        "print(f'plus: {c1.plus()}')"
      ]
    },
    {
      "cell_type": "code",
      "source": [
        "class Programm:\n",
        "  def __init__(self):\n",
        "    c2 = A(20, 5)\n",
        "    print(c2.multi())\n",
        "    print(c2.plus())\n",
        "if __name__ == \"__main__\":\n",
        "  f1 = Programm()\n",
        "  del f1"
      ],
      "metadata": {
        "colab": {
          "base_uri": "https://localhost:8080/"
        },
        "id": "ZIc0k5evJ_fM",
        "outputId": "b1fc706a-8bdb-46bf-9ce8-28fa8f30c321"
      },
      "execution_count": 24,
      "outputs": [
        {
          "output_type": "stream",
          "name": "stdout",
          "text": [
            "100\n",
            "25\n"
          ]
        }
      ]
    }
  ]
}