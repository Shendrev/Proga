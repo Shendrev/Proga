{
  "nbformat": 4,
  "nbformat_minor": 0,
  "metadata": {
    "colab": {
      "provenance": [],
      "authorship_tag": "ABX9TyPOOKkub8SOjBOPqbAJm0WL",
      "include_colab_link": true
    },
    "kernelspec": {
      "name": "python3",
      "display_name": "Python 3"
    },
    "language_info": {
      "name": "python"
    }
  },
  "cells": [
    {
      "cell_type": "markdown",
      "metadata": {
        "id": "view-in-github",
        "colab_type": "text"
      },
      "source": [
        "<a href=\"https://colab.research.google.com/github/Shendrev/Proga/blob/main/%D0%9B%D0%B5%D0%BA%D1%86%D0%B8%D1%8F2.ipynb\" target=\"_parent\"><img src=\"https://colab.research.google.com/assets/colab-badge.svg\" alt=\"Open In Colab\"/></a>"
      ]
    },
    {
      "cell_type": "code",
      "execution_count": 32,
      "metadata": {
        "id": "J6s2KMyKqgU1"
      },
      "outputs": [],
      "source": [
        " class Person:\n",
        "   def setName(self, n, s):\n",
        "    self.name = n\n",
        "    self.surename = s\n",
        "\n",
        "\n"
      ]
    },
    {
      "cell_type": "code",
      "source": [
        "p1 = Person()\n",
        "p1.setname(\"Bill\", \"Ross\")\n",
        "p1.name, p1.surname"
      ],
      "metadata": {
        "id": "OKtPmyFEfovt"
      },
      "execution_count": null,
      "outputs": []
    },
    {
      "cell_type": "code",
      "source": [
        "class Person2:\n",
        " def __init__(self, n, s):\n",
        "   self.name = n\n",
        "   self.surname = s"
      ],
      "metadata": {
        "id": "I9-IMJ7jf-Lg"
      },
      "execution_count": 24,
      "outputs": []
    },
    {
      "cell_type": "code",
      "source": [
        "p1 = Person2(\"Sam\", \"Baker\")\n",
        "print(p1.name, p1.surname)"
      ],
      "metadata": {
        "id": "eKUELv4pgiVy"
      },
      "execution_count": null,
      "outputs": []
    },
    {
      "cell_type": "code",
      "source": [
        "class Rectangle:\n",
        "  def __init__(self, w = 0.5, h = 1):\n",
        "    self.width = w\n",
        "    self.height = h\n",
        "  def square(self):\n",
        "    return self.width * self.height"
      ],
      "metadata": {
        "id": "GH6kNX17hAxM"
      },
      "execution_count": 22,
      "outputs": []
    },
    {
      "cell_type": "code",
      "source": [
        "rec1 = Rectangle(5,2)\n",
        "rec2 = Rectangle()\n",
        "rec3 = Rectangle(3)\n",
        "rec4 = Rectangle(h=4)"
      ],
      "metadata": {
        "id": "C64l_FKYhfaU"
      },
      "execution_count": 34,
      "outputs": []
    },
    {
      "cell_type": "code",
      "source": [
        "class Person:\n",
        "  def __init__(self, n, s, q = 1):\n",
        "    self.name = n\n",
        "    self.surname = s\n",
        "    self.skill = q\n",
        "  def __del__(self):\n",
        "    print(\"До свидания, мистер\", self.name, self.surname)\n",
        "  def info(self):\n",
        "    return\"{0} {1}, {2}\".format(self.name, self.surname, self.skill)\n",
        "worker = Person(\"И\", \"Котов\", 3)\n",
        "helper = Person(\"Д\", \"Мышев\", 1)\n",
        "maker = Person(\"О\", \"Рисов\", 2)\n",
        "print(worker.info())\n",
        "print(helper.info())\n",
        "print(maker.info())\n",
        "del helper\n",
        "print(\"Конец программы\")\n",
        "input()"
      ],
      "metadata": {
        "id": "sKmaRBMkhyNc"
      },
      "execution_count": null,
      "outputs": []
    },
    {
      "cell_type": "code",
      "source": [
        "class Table:\n",
        "  def __init__(self, l, w, h):\n",
        "    self.length = 1\n",
        "    self.width = w\n",
        "    self.height = h\n",
        "\n",
        "class KitchenTable(Table):\n",
        "  def setPlaces(self, p):\n",
        "    self.places = p\n",
        "\n",
        "class Desktable(Table):\n",
        "  def square(self):\n",
        "    return self.width * self.length"
      ],
      "metadata": {
        "id": "ONttm53Wj05v"
      },
      "execution_count": 20,
      "outputs": []
    },
    {
      "cell_type": "code",
      "source": [
        "t1 = KitchenTable(2, 2, 0.7)\n",
        "t2 = DeskTable(1.5, 0.8, 0.75)\n",
        "t3 = KitchenTable(1, 1, 2, 0.8)"
      ],
      "metadata": {
        "id": "ILVVchohk9cw"
      },
      "execution_count": null,
      "outputs": []
    },
    {
      "cell_type": "code",
      "source": [
        "class ComputerTable(DeskTable):\n",
        "  def square(self, e):\n",
        "    return self.width * self.length - e"
      ],
      "metadata": {
        "id": "M6DoRQY_lRA_"
      },
      "execution_count": null,
      "outputs": []
    },
    {
      "cell_type": "code",
      "source": [
        "class ComputerTable(DeskTable):\n",
        "  def square(self, e):\n",
        "    return DeskTable.square(self) - e"
      ],
      "metadata": {
        "id": "obQ6E7xZluag"
      },
      "execution_count": null,
      "outputs": []
    },
    {
      "cell_type": "code",
      "source": [
        "class KitchenTable(Table):\n",
        "  def __init__(self, l, w, h, p):\n",
        "    self.Length = 1\n",
        "    self.width = w\n",
        "    self.height = h\n",
        "    self.places = p\n"
      ],
      "metadata": {
        "id": "-bg0K3wZmTxR"
      },
      "execution_count": 17,
      "outputs": []
    },
    {
      "cell_type": "code",
      "source": [
        "class KitchenTable(Table):\n",
        "  def __init__(self, l, w, h, p):\n",
        "    Table.__init__(self, l, w, h)\n",
        "    self.places = p"
      ],
      "metadata": {
        "id": "gbV3FuGxmspy"
      },
      "execution_count": 16,
      "outputs": []
    },
    {
      "cell_type": "code",
      "source": [
        "tk = KitchenTable(2, 1.5, 0.7, 10)\n",
        "print(tk.places)\n",
        "print(tk.width)"
      ],
      "metadata": {
        "id": "j1yvXBORnAQj"
      },
      "execution_count": null,
      "outputs": []
    },
    {
      "cell_type": "code",
      "source": [
        "from random import randint\n",
        "\n",
        "class Person:\n",
        "  count = 0\n",
        "  def __init__(self, c):\n",
        "    self.id = Person.count\n",
        "    Person.count += 1\n",
        "    self.command = c"
      ],
      "metadata": {
        "id": "rUMC3DC2ngXD"
      },
      "execution_count": 12,
      "outputs": []
    },
    {
      "cell_type": "code",
      "source": [
        "class Hero(Person):\n",
        "  def __init__(self, c):\n",
        "    Person.__init__(self, c)\n",
        "    self.level = 1\n",
        "  def upLevel(self):\n",
        "    self.level += 1\n",
        "\n",
        "class Soldier(Person):\n",
        "  def __init__(self, c):\n",
        "    Person.__init__(self, c)\n",
        "    self.my_hero = None\n",
        "  def follow(self, hero):\n",
        "    self.my_hero = hero.id"
      ],
      "metadata": {
        "id": "29VNCmn1oTQb"
      },
      "execution_count": 13,
      "outputs": []
    },
    {
      "cell_type": "code",
      "source": [
        "h1 = Hero(1)\n",
        "h2 = Hero(2)\n",
        "army1 = []\n",
        "army2 = []\n",
        "for i in range(20):\n",
        "  n = randint(1, 2)\n",
        "  if n == 1:\n",
        "    army1.append(Soldier(n))\n",
        "  else:\n",
        "    army2.append(Soldier(n))\n",
        "print(len(army1), len(army2))"
      ],
      "metadata": {
        "id": "rXXsesZ6ptxI"
      },
      "execution_count": null,
      "outputs": []
    },
    {
      "cell_type": "code",
      "source": [
        "if len(army1) > len(army2):\n",
        "  h1.upLevel()\n",
        "else:\n",
        "  h2.upLevel()\n",
        "\n",
        "army1[0].follow(h1)\n",
        "print(army1[0].id, h1.id)"
      ],
      "metadata": {
        "id": "qsRcopiOqSKr"
      },
      "execution_count": null,
      "outputs": []
    }
  ]
}