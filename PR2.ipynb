{
  "nbformat": 4,
  "nbformat_minor": 0,
  "metadata": {
    "colab": {
      "provenance": [],
      "authorship_tag": "ABX9TyPAN1diC8hL3Vbj/yPkVu6a",
      "include_colab_link": true
    },
    "kernelspec": {
      "name": "python3",
      "display_name": "Python 3"
    },
    "language_info": {
      "name": "python"
    }
  },
  "cells": [
    {
      "cell_type": "markdown",
      "metadata": {
        "id": "view-in-github",
        "colab_type": "text"
      },
      "source": [
        "<a href=\"https://colab.research.google.com/github/Shendrev/Proga/blob/main/PR2.ipynb\" target=\"_parent\"><img src=\"https://colab.research.google.com/assets/colab-badge.svg\" alt=\"Open In Colab\"/></a>"
      ]
    },
    {
      "cell_type": "markdown",
      "source": [
        "**1.2.1**"
      ],
      "metadata": {
        "id": "hG4z_goK3Qtp"
      }
    },
    {
      "cell_type": "code",
      "execution_count": 1,
      "metadata": {
        "colab": {
          "base_uri": "https://localhost:8080/"
        },
        "id": "miIYtveQ2D2s",
        "outputId": "265f6336-67ee-40dc-86fc-5fe03a08eab2"
      },
      "outputs": [
        {
          "output_type": "stream",
          "name": "stdout",
          "text": [
            "Johanna has 2 apples and Martin has 1 apples\n",
            "Johanna has 1 ideas and Martin has 1 ideas\n"
          ]
        }
      ],
      "source": [
        "# “Если у тебя есть яблоко, а у меня есть яблоко, и мы\n",
        "# обменяемся этими яблоками, тогда\n",
        "# у нас с тобой по-прежнему будет по одному яблоку. Но если у\n",
        "# вас есть идея, а у меня есть\n",
        "# идея, и мы обмениваемся этими идеями, тогда у каждого из нас\n",
        "# будет по две идеи”.\n",
        "# Джордж Бернард Шоу\n",
        "class Person:\n",
        " apples = 0\n",
        " ideas = 0\n",
        "johanna = Person()\n",
        "johanna.apples = 1\n",
        "johanna.ideas = 1\n",
        "martin = Person()\n",
        "martin.apples = 2\n",
        "martin.ideas = 1\n",
        "def exchange_apples(you, me):\n",
        "# Здесь, несмотря на цитату Дж.Б. Шоу, наши персонажи начали с\n",
        "# разного количества яблок, чтобы лучше понять результат.\n",
        "# Мы собираемся попросить Мартина и Джоанну обменяться ВСЕМИ\n",
        "# своими яблоками друг с другом.\n",
        " obmen = you.apples               #obmen Временная дополнительная переменная\n",
        " you.apples = me.apples           \n",
        " me.apples = obmen\n",
        " return you.apples, me.apples\n",
        "def exchange_ideas(you, me):\n",
        "# \"ты\" и \"я\" обменяемся своими идеями друг с другом.\n",
        "#Какие операции необходимо выполнить, чтобы каждый объект получал\n",
        "#общее количество идей?\n",
        "#Подсказка: как бы вы распределили общее количество идей по\n",
        "#атрибут каждой идеи? Вам нужна временная переменная для хранения\n",
        "# суммы идей, или вы можете найти другой способ?\n",
        "#Используйте здесь столько строк кода, сколько вам нужно.\n",
        " obmen = you.ideas                #obmen Временная дополнительная переменная\n",
        " you.ideas = me.ideas\n",
        " me.ideas = obmen\n",
        " return you.ideas, me.ideas\n",
        "exchange_apples(johanna, martin)\n",
        "print(\"Johanna has {} apples and Martin has {} apples\".format(johanna.apples, martin.apples))\n",
        "exchange_ideas(johanna, martin)\n",
        "print(\"Johanna has {} ideas and Martin has {} ideas\".format(johanna.ideas, martin.ideas)) "
      ]
    },
    {
      "cell_type": "markdown",
      "source": [
        "**1.2.2**"
      ],
      "metadata": {
        "id": "AmhMoSEA8F_s"
      }
    },
    {
      "cell_type": "code",
      "source": [
        "# определите базовый класс города\n",
        "class City:\n",
        " name = \"\"\n",
        " country = \"\"\n",
        " elevation = 0\n",
        " population = 0\n",
        "# создайте новый экземпляр класса City и\n",
        "# определите каждый атрибут\n",
        "city1 = City()\n",
        "city1.name = \"Cusco\"\n",
        "city1.country = \"Peru\"\n",
        "city1.elevation = 3399\n",
        "city1.population = 358052\n",
        "# создайте новый экземпляр класса City и\n",
        "# определите каждый атрибут\n",
        "city2 = City()\n",
        "city2.name = \"Sofia\"\n",
        "city2.country = \"Bulgaria\"\n",
        "city2.elevation = 2290\n",
        "city2.population = 1241675\n",
        "# создайте новый экземпляр класса City и\n",
        "# определите каждый атрибут\n",
        "city3 = City()\n",
        "city3.name = \"Seoul\"\n",
        "city3.country = \"South Korea\"\n",
        "city3.elevation = 38\n",
        "city3.population = 9733509\n",
        "def max_elevation_city(min_population):\n",
        "# Инициализируйте переменную, которая будет содержать\n",
        "# информация о городе с\n",
        "# самой высокой возвышенностью\n",
        " return_city = City()\n",
        "# Оцените 1-й экземпляр на соответствие требованиям:\n",
        "# есть ли в городе #1 хотя бы минимальное население и\n",
        "# является ли его возвышенность самой высокой из оцененных на \n",
        "# данный момент?\n",
        " if city1.population >= min_population:\n",
        "   return_city = city1\n",
        "# Оцените 2-й экземпляр на соответствие требованиям:\n",
        "# есть ли в городе #2 хотя бы минимальное население и\n",
        "# является ли его возвышенность самой высокой из оцененных на\n",
        "# данный момент?\n",
        " if city2.population >= min_population and city2.elevation > return_city.elevation:\n",
        "  return_city = city2\n",
        "# Оцените 3-й экземпляр на соответствие требованиям:\n",
        "# есть ли в городе #3 хотя бы минимальное население и\n",
        "# является ли его возвышенность самой высокой из оцененных на\n",
        "# данный момент?\n",
        " if city3.population >= min_population and city3.elevation > return_city.elevation:\n",
        "  return_city = city3\n",
        " #Форматирование возвращаемой строки\n",
        " if return_city.name:\n",
        "  return \"{}, {}\".format(return_city.name, return_city.country)\n",
        " else:\n",
        "  return \"\"\n",
        "print(max_elevation_city(100000))\n",
        "# Вывод на экран \"Cusco, Peru\"\n",
        "print(max_elevation_city(1000000))\n",
        "# Вывод на экран \"Sofia, Bulgaria\"\n",
        "print(max_elevation_city(10000000))\n",
        "# Вывод на экран \"\" "
      ],
      "metadata": {
        "colab": {
          "base_uri": "https://localhost:8080/"
        },
        "id": "UzNE7xhw8JTP",
        "outputId": "6c7d6844-5c81-4cc9-8717-bf93353ba69e"
      },
      "execution_count": 20,
      "outputs": [
        {
          "output_type": "stream",
          "name": "stdout",
          "text": [
            "Cusco, Peru\n",
            "Sofia, Bulgaria\n",
            "\n"
          ]
        }
      ]
    },
    {
      "cell_type": "markdown",
      "source": [
        "**1.2.3**"
      ],
      "metadata": {
        "id": "wBzz5HIL8J28"
      }
    },
    {
      "cell_type": "code",
      "source": [
        "class Furniture:\n",
        " color = \"\"\n",
        " material = \"\"\n",
        "table = Furniture()\n",
        "table.color = \"Коричневый\" \n",
        "table.material = \"Деревянный\"\n",
        "couch = Furniture()\n",
        "couch.color = \"Красный\"\n",
        "couch.material = \"Кожаный\"\n",
        "def describe_furniture(piece):\n",
        " return (\"Этот предмет мебели изготовлен из {} {}\".format(piece.color, piece.material))\n",
        "print(describe_furniture(table))\n",
        "# Вывод на экран\" Этот предмет мебели сделан из коричневого дерева \"\n",
        "print(describe_furniture(couch))\n",
        "# Вывод на экран\" Этот предмет мебели сделан из красной кожи \" "
      ],
      "metadata": {
        "colab": {
          "base_uri": "https://localhost:8080/"
        },
        "id": "LBpSmRdc8LwU",
        "outputId": "b605149f-e709-421a-b7cb-2334b347a86a"
      },
      "execution_count": 5,
      "outputs": [
        {
          "output_type": "stream",
          "name": "stdout",
          "text": [
            "Этот предмет мебели изготовлен из Коричневый Деревянный\n",
            "Этот предмет мебели изготовлен из Красный Кожаный\n"
          ]
        }
      ]
    }
  ]
}